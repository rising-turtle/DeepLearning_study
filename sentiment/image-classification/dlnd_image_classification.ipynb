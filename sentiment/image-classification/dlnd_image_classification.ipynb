{
 "cells": [
  {
   "cell_type": "markdown",
   "metadata": {
    "collapsed": true
   },
   "source": [
    "# Image Classification\n",
    "In this project, you'll classify images from the [CIFAR-10 dataset](https://www.cs.toronto.edu/~kriz/cifar.html).  The dataset consists of airplanes, dogs, cats, and other objects. You'll preprocess the images, then train a convolutional neural network on all the samples. The images need to be normalized and the labels need to be one-hot encoded.  You'll get to apply what you learned and build a convolutional, max pooling, dropout, and fully connected layers.  At the end, you'll get to see your neural network's predictions on the sample images.\n",
    "## Get the Data\n",
    "Run the following cell to download the [CIFAR-10 dataset for python](https://www.cs.toronto.edu/~kriz/cifar-10-python.tar.gz)."
   ]
  },
  {
   "cell_type": "code",
   "execution_count": 1,
   "metadata": {},
   "outputs": [
    {
     "name": "stdout",
     "output_type": "stream",
     "text": [
      "All files found!\n"
     ]
    }
   ],
   "source": [
    "\"\"\"\n",
    "DON'T MODIFY ANYTHING IN THIS CELL THAT IS BELOW THIS LINE\n",
    "\"\"\"\n",
    "from urllib.request import urlretrieve\n",
    "from os.path import isfile, isdir\n",
    "from tqdm import tqdm\n",
    "import problem_unittests as tests\n",
    "import tarfile\n",
    "\n",
    "cifar10_dataset_folder_path = 'cifar-10-batches-py'\n",
    "\n",
    "# Use Floyd's cifar-10 dataset if present\n",
    "floyd_cifar10_location = '/input/cifar-10/python.tar.gz'\n",
    "if isfile(floyd_cifar10_location):\n",
    "    tar_gz_path = floyd_cifar10_location\n",
    "else:\n",
    "    tar_gz_path = 'cifar-10-python.tar.gz'\n",
    "\n",
    "class DLProgress(tqdm):\n",
    "    last_block = 0\n",
    "\n",
    "    def hook(self, block_num=1, block_size=1, total_size=None):\n",
    "        self.total = total_size\n",
    "        self.update((block_num - self.last_block) * block_size)\n",
    "        self.last_block = block_num\n",
    "\n",
    "if not isfile(tar_gz_path):\n",
    "    with DLProgress(unit='B', unit_scale=True, miniters=1, desc='CIFAR-10 Dataset') as pbar:\n",
    "        urlretrieve(\n",
    "            'https://www.cs.toronto.edu/~kriz/cifar-10-python.tar.gz',\n",
    "            tar_gz_path,\n",
    "            pbar.hook)\n",
    "\n",
    "if not isdir(cifar10_dataset_folder_path):\n",
    "    with tarfile.open(tar_gz_path) as tar:\n",
    "        tar.extractall()\n",
    "        tar.close()\n",
    "\n",
    "\n",
    "tests.test_folder_path(cifar10_dataset_folder_path)"
   ]
  },
  {
   "cell_type": "markdown",
   "metadata": {},
   "source": [
    "## Explore the Data\n",
    "The dataset is broken into batches to prevent your machine from running out of memory.  The CIFAR-10 dataset consists of 5 batches, named `data_batch_1`, `data_batch_2`, etc.. Each batch contains the labels and images that are one of the following:\n",
    "* airplane\n",
    "* automobile\n",
    "* bird\n",
    "* cat\n",
    "* deer\n",
    "* dog\n",
    "* frog\n",
    "* horse\n",
    "* ship\n",
    "* truck\n",
    "\n",
    "Understanding a dataset is part of making predictions on the data.  Play around with the code cell below by changing the `batch_id` and `sample_id`. The `batch_id` is the id for a batch (1-5). The `sample_id` is the id for a image and label pair in the batch.\n",
    "\n",
    "Ask yourself \"What are all possible labels?\", \"What is the range of values for the image data?\", \"Are the labels in order or random?\".  Answers to questions like these will help you preprocess the data and end up with better predictions."
   ]
  },
  {
   "cell_type": "code",
   "execution_count": 5,
   "metadata": {},
   "outputs": [
    {
     "name": "stdout",
     "output_type": "stream",
     "text": [
      "\n",
      "Stats of batch 1:\n",
      "Samples: 10000\n",
      "Label Counts: {0: 1005, 1: 974, 2: 1032, 3: 1016, 4: 999, 5: 937, 6: 1030, 7: 1001, 8: 1025, 9: 981}\n",
      "First 20 Labels: [6, 9, 9, 4, 1, 1, 2, 7, 8, 3, 4, 7, 7, 2, 9, 9, 9, 3, 2, 6]\n",
      "\n",
      "Example of Image 5:\n",
      "Image - Min Value: 0 Max Value: 252\n",
      "Image - Shape: (32, 32, 3)\n",
      "Label - Label Id: 1 Name: automobile\n"
     ]
    },
    {
     "data": {
      "image/png": "[encoded data removed]",
      "text/plain": [
       "<matplotlib.figure.Figure at 0x7f3c51a10710>"
      ]
     },
     "metadata": {
      "image/png": {
       "height": 250,
       "width": 253
      }
     },
     "output_type": "display_data"
    }
   ],
   "source": [
    "%matplotlib inline\n",
    "%config InlineBackend.figure_format = 'retina'\n",
    "\n",
    "import helper\n",
    "import numpy as np\n",
    "\n",
    "# Explore the dataset\n",
    "batch_id = 1\n",
    "sample_id = 5\n",
    "helper.display_stats(cifar10_dataset_folder_path, batch_id, sample_id)"
   ]
  },
  {
   "cell_type": "markdown",
   "metadata": {},
   "source": [
    "## Implement Preprocess Functions\n",
    "### Normalize\n",
    "In the cell below, implement the `normalize` function to take in image data, `x`, and return it as a normalized Numpy array. The values should be in the range of 0 to 1, inclusive.  The return object should be the same shape as `x`."
   ]
  },
  {
   "cell_type": "code",
   "execution_count": 6,
   "metadata": {
    "scrolled": true
   },
   "outputs": [
    {
     "name": "stdout",
     "output_type": "stream",
     "text": [
      "566\n",
      "Tests Passed\n"
     ]
    }
   ],
   "source": [
    "def normalize(x):\n",
    "    \"\"\"\n",
    "    Normalize a list of sample image data in the range of 0 to 1\n",
    "    : x: List of image data.  The image shape is (32, 32, 3)\n",
    "    : return: Numpy array of normalize data\n",
    "    \"\"\"\n",
    "    # TODO: Implement Function\n",
    "    print(len(x))\n",
    "    nx = list()\n",
    "    \n",
    "    for image in x:\n",
    "        xmin = np.min(image)\n",
    "        xmax = np.max(image)\n",
    "        n = len(image)\n",
    "        nimg = list(range(n))\n",
    "        for i in range(len(image)):\n",
    "            nimg[i]=((image[i]-xmin)/(xmax-xmin))\n",
    "        np.reshape(nimg, (32, 32, 3))\n",
    "        nx.append(nimg)\n",
    "    return np.array(nx)\n",
    "\n",
    "\n",
    "\"\"\"\n",
    "DON'T MODIFY ANYTHING IN THIS CELL THAT IS BELOW THIS LINE\n",
    "\"\"\"\n",
    "tests.test_normalize(normalize)"
   ]
  },
  {
   "cell_type": "markdown",
   "metadata": {},
   "source": [
    "### One-hot encode\n",
    "Just like the previous code cell, you'll be implementing a function for preprocessing.  This time, you'll implement the `one_hot_encode` function. The input, `x`, are a list of labels.  Implement the function to return the list of labels as One-Hot encoded Numpy array.  The possible values for labels are 0 to 9. The one-hot encoding function should return the same encoding for each value between each call to `one_hot_encode`.  Make sure to save the map of encodings outside the function.\n",
    "\n",
    "Hint: Don't reinvent the wheel."
   ]
  },
  {
   "cell_type": "code",
   "execution_count": 7,
   "metadata": {},
   "outputs": [
    {
     "name": "stdout",
     "output_type": "stream",
     "text": [
      "Tests Passed\n"
     ]
    }
   ],
   "source": [
    "def one_hot_encode(x):\n",
    "    \"\"\"\n",
    "    One hot encode a list of sample labels. Return a one-hot encoded vector for each label.\n",
    "    : x: List of sample Labels\n",
    "    : return: Numpy array of one-hot encoded labels\n",
    "    \"\"\"\n",
    "    # labels airplane, automobile, bird, cat, deer, dog, frog, horse, ship, truck\n",
    "    \n",
    "    # labels = ['airplane', 'automobile', 'bird', 'cat', 'deer', 'dog', 'frog', 'horse', 'ship', 'truck']\n",
    "    # TODO: Implement Function\n",
    "    # nx = list()\n",
    "    # for label in x:\n",
    "    #    nl = np.zeros(len(labels))\n",
    "    #    for i in range(len(labels)):\n",
    "    #        if(label == labels[i]):\n",
    "    #            nl[i] = 1.\n",
    "    #            break\n",
    "    #    nx.append(nl)\n",
    "        \n",
    "    # return np.array(nx)\n",
    "    return np.eye(10)[x]\n",
    "\n",
    "\n",
    "\"\"\"\n",
    "DON'T MODIFY ANYTHING IN THIS CELL THAT IS BELOW THIS LINE\n",
    "\"\"\"\n",
    "tests.test_one_hot_encode(one_hot_encode)"
   ]
  },
  {
   "cell_type": "markdown",
   "metadata": {},
   "source": [
    "### Randomize Data\n",
    "As you saw from exploring the data above, the order of the samples are randomized.  It doesn't hurt to randomize it again, but you don't need to for this dataset."
   ]
  },
  {
   "cell_type": "markdown",
   "metadata": {},
   "source": [
    "## Preprocess all the data and save it\n",
    "Running the code cell below will preprocess all the CIFAR-10 data and save it to file. The code below also uses 10% of the training data for validation."
   ]
  },
  {
   "cell_type": "code",
   "execution_count": 8,
   "metadata": {},
   "outputs": [
    {
     "name": "stdout",
     "output_type": "stream",
     "text": [
      "9000\n",
      "9000\n",
      "9000\n",
      "9000\n",
      "9000\n",
      "5000\n",
      "10000\n"
     ]
    }
   ],
   "source": [
    "\"\"\"\n",
    "DON'T MODIFY ANYTHING IN THIS CELL\n",
    "\"\"\"\n",
    "# Preprocess Training, Validation, and Testing Data\n",
    "helper.preprocess_and_save_data(cifar10_dataset_folder_path, normalize, one_hot_encode)"
   ]
  },
  {
   "cell_type": "markdown",
   "metadata": {},
   "source": [
    "# Check Point\n",
    "This is your first checkpoint.  If you ever decide to come back to this notebook or have to restart the notebook, you can start from here.  The preprocessed data has been saved to disk."
   ]
  },
  {
   "cell_type": "code",
   "execution_count": 9,
   "metadata": {
    "collapsed": true
   },
   "outputs": [],
   "source": [
    "\"\"\"\n",
    "DON'T MODIFY ANYTHING IN THIS CELL\n",
    "\"\"\"\n",
    "import pickle\n",
    "import problem_unittests as tests\n",
    "import helper\n",
    "\n",
    "# Load the Preprocessed Validation data\n",
    "valid_features, valid_labels = pickle.load(open('preprocess_validation.p', mode='rb'))"
   ]
  },
  {
   "cell_type": "markdown",
   "metadata": {},
   "source": [
    "## Build the network\n",
    "For the neural network, you'll build each layer into a function.  Most of the code you've seen has been outside of functions. To test your code more thoroughly, we require that you put each layer in a function.  This allows us to give you better feedback and test for simple mistakes using our unittests before you submit your project.\n",
    "\n",
    ">**Note:** If you're finding it hard to dedicate enough time for this course each week, we've provided a small shortcut to this part of the project. In the next couple of problems, you'll have the option to use classes from the [TensorFlow Layers](https://www.tensorflow.org/api_docs/python/tf/layers) or [TensorFlow Layers (contrib)](https://www.tensorflow.org/api_guides/python/contrib.layers) packages to build each layer, except the layers you build in the \"Convolutional and Max Pooling Layer\" section.  TF Layers is similar to Keras's and TFLearn's abstraction to layers, so it's easy to pickup.\n",
    "\n",
    ">However, if you would like to get the most out of this course, try to solve all the problems _without_ using anything from the TF Layers packages. You **can** still use classes from other packages that happen to have the same name as ones you find in TF Layers! For example, instead of using the TF Layers version of the `conv2d` class, [tf.layers.conv2d](https://www.tensorflow.org/api_docs/python/tf/layers/conv2d), you would want to use the TF Neural Network version of `conv2d`, [tf.nn.conv2d](https://www.tensorflow.org/api_docs/python/tf/nn/conv2d). \n",
    "\n",
    "Let's begin!\n",
    "\n",
    "### Input\n",
    "The neural network needs to read the image data, one-hot encoded labels, and dropout keep probability. Implement the following functions\n",
    "* Implement `neural_net_image_input`\n",
    " * Return a [TF Placeholder](https://www.tensorflow.org/api_docs/python/tf/placeholder)\n",
    " * Set the shape using `image_shape` with batch size set to `None`.\n",
    " * Name the TensorFlow placeholder \"x\" using the TensorFlow `name` parameter in the [TF Placeholder](https://www.tensorflow.org/api_docs/python/tf/placeholder).\n",
    "* Implement `neural_net_label_input`\n",
    " * Return a [TF Placeholder](https://www.tensorflow.org/api_docs/python/tf/placeholder)\n",
    " * Set the shape using `n_classes` with batch size set to `None`.\n",
    " * Name the TensorFlow placeholder \"y\" using the TensorFlow `name` parameter in the [TF Placeholder](https://www.tensorflow.org/api_docs/python/tf/placeholder).\n",
    "* Implement `neural_net_keep_prob_input`\n",
    " * Return a [TF Placeholder](https://www.tensorflow.org/api_docs/python/tf/placeholder) for dropout keep probability.\n",
    " * Name the TensorFlow placeholder \"keep_prob\" using the TensorFlow `name` parameter in the [TF Placeholder](https://www.tensorflow.org/api_docs/python/tf/placeholder).\n",
    "\n",
    "These names will be used at the end of the project to load your saved model.\n",
    "\n",
    "Note: `None` for shapes in TensorFlow allow for a dynamic size."
   ]
  },
  {
   "cell_type": "code",
   "execution_count": 13,
   "metadata": {},
   "outputs": [
    {
     "name": "stdout",
     "output_type": "stream",
     "text": [
      "Image Input Tests Passed.\n",
      "Label Input Tests Passed.\n",
      "Keep Prob Tests Passed.\n"
     ]
    }
   ],
   "source": [
    "import tensorflow as tf\n",
    "\n",
    "def neural_net_image_input(image_shape):\n",
    "    \"\"\"\n",
    "    Return a Tensor for a bach of image input\n",
    "    : image_shape: Shape of the images\n",
    "    : return: Tensor for image input.\n",
    "    \"\"\"\n",
    "    # TODO: Implement Function\n",
    "    # input_i = tf.placeholder(tf.float32, \n",
    "    #                        [None, image_shape[0], image_shape[1], image_shape[2]], name=\"x\")\n",
    "    \n",
    "    input_i = tf.placeholder(tf.float32, [None, *image_shape], name='x')\n",
    "    \n",
    "    return input_i\n",
    "\n",
    "\n",
    "def neural_net_label_input(n_classes):\n",
    "    \"\"\"\n",
    "    Return a Tensor for a batch of label input\n",
    "    : n_classes: Number of classes\n",
    "    : return: Tensor for label input.\n",
    "    \"\"\"\n",
    "    # TODO: Implement Function\n",
    "    \n",
    "    label = tf.placeholder(tf.float32, \n",
    "                          [None, n_classes], name=\"y\")\n",
    "    return label\n",
    "\n",
    "\n",
    "def neural_net_keep_prob_input():\n",
    "    \"\"\"\n",
    "    Return a Tensor for keep probability\n",
    "    : return: Tensor for keep probability.\n",
    "    \"\"\"\n",
    "    # TODO: Implement Function\n",
    "    keep_prob = tf.placeholder(tf.float32, name=\"keep_prob\")\n",
    "    return keep_prob\n",
    "\n",
    "\n",
    "\"\"\"\n",
    "DON'T MODIFY ANYTHING IN THIS CELL THAT IS BELOW THIS LINE\n",
    "\"\"\"\n",
    "tf.reset_default_graph()\n",
    "tests.test_nn_image_inputs(neural_net_image_input)\n",
    "tests.test_nn_label_inputs(neural_net_label_input)\n",
    "tests.test_nn_keep_prob_inputs(neural_net_keep_prob_input)"
   ]
  },
  {
   "cell_type": "markdown",
   "metadata": {},
   "source": [
    "### Convolution and Max Pooling Layer\n",
    "Convolution layers have a lot of success with images. For this code cell, you should implement the function `conv2d_maxpool` to apply convolution then max pooling:\n",
    "* Create the weight and bias using `conv_ksize`, `conv_num_outputs` and the shape of `x_tensor`.\n",
    "* Apply a convolution to `x_tensor` using weight and `conv_strides`.\n",
    " * We recommend you use same padding, but you're welcome to use any padding.\n",
    "* Add bias\n",
    "* Add a nonlinear activation to the convolution.\n",
    "* Apply Max Pooling using `pool_ksize` and `pool_strides`.\n",
    " * We recommend you use same padding, but you're welcome to use any padding.\n",
    "\n",
    "**Note:** You **can't** use [TensorFlow Layers](https://www.tensorflow.org/api_docs/python/tf/layers) or [TensorFlow Layers (contrib)](https://www.tensorflow.org/api_guides/python/contrib.layers) for **this** layer, but you can still use TensorFlow's [Neural Network](https://www.tensorflow.org/api_docs/python/tf/nn) package. You may still use the shortcut option for all the **other** layers."
   ]
  },
  {
   "cell_type": "code",
   "execution_count": 78,
   "metadata": {},
   "outputs": [
    {
     "name": "stdout",
     "output_type": "stream",
     "text": [
      "Tests Passed\n"
     ]
    }
   ],
   "source": [
    "def conv2d_maxpool(x_tensor, conv_num_outputs, conv_ksize, conv_strides, pool_ksize, pool_strides):\n",
    "    \"\"\"\n",
    "    Apply convolution then max pooling to x_tensor\n",
    "    :param x_tensor: TensorFlow Tensor\n",
    "    :param conv_num_outputs: Number of outputs for the convolutional layer\n",
    "    :param conv_ksize: kernal size 2-D Tuple for the convolutional layer\n",
    "    :param conv_strides: Stride 2-D Tuple for convolution\n",
    "    :param pool_ksize: kernal size 2-D Tuple for pool\n",
    "    :param pool_strides: Stride 2-D Tuple for pool\n",
    "    : return: A tensor that represents convolution and max pooling of x_tensor\n",
    "    \"\"\"\n",
    "    # TODO: Implement Function\n",
    "    # Weight and bias\n",
    "    xarvier = 2.0/(conv_ksize[0]*conv_ksize[1] * (np.int(x_tensor.shape[-1]))  + conv_num_outputs)\n",
    "    weight = tf.Variable(tf.truncated_normal(\n",
    "            [conv_ksize[0], conv_ksize[1], np.int(x_tensor.shape[-1]), conv_num_outputs], \n",
    "            0.0, stddev = np.sqrt(xarvier))) #stddev=W = tf.get_variable(\"W\", shape=[784, 256],\n",
    "           \n",
    "    # weight = tf.get_variable(\"weight_con2d_maxpool\", shape = [conv_ksize[0], conv_ksize[1], np.int(x_tensor.shape[-1]), conv_num_outputs],\n",
    "    #                         initializer=tf.contrib.layers.xavier_initializer())\n",
    "    bias = tf.Variable(tf.zeros(conv_num_outputs))\n",
    "    \n",
    "    # Input/Image\n",
    "    # input = tf.placeholder(tf.float32,\n",
    "    #    shape=[None, image_height, image_width, color_channels])\n",
    "   \n",
    "    # print(conv_strides)\n",
    "    # print(pool_strides)\n",
    "    # print(conv_ksize)\n",
    "    # print(x_tensor.shape)\n",
    "    # print(pool_ksize)\n",
    "    # Apply Convolution\n",
    "    conv_layer = tf.nn.conv2d(x_tensor, weight, [1, conv_strides[0], conv_strides[1], 1], padding='SAME')\n",
    "    # Add bias\n",
    "    conv_layer = tf.nn.bias_add(conv_layer, bias)\n",
    "    # Apply activation function\n",
    "    conv_layer = tf.nn.relu(conv_layer)\n",
    "    \n",
    "    # Apply Max Pooling\n",
    "    # conv_layer = tf.nn.max_pool(\n",
    "    #            conv_layer, [1, pool_ksize[0], pool_ksize[1], 1],\n",
    "    #            [1, pool_strides[0], pool_strides[1], 1], padding='SAME')\n",
    "\n",
    "    # average pooling \n",
    "    conv_layer = tf.nn.avg_pool(conv_layer,[1, pool_ksize[0], pool_ksize[1], 1],\n",
    "                [1, pool_strides[0], pool_strides[1], 1], padding='VALID')\n",
    "    \n",
    "    return conv_layer \n",
    "\n",
    "\n",
    "\"\"\"\n",
    "DON'T MODIFY ANYTHING IN THIS CELL THAT IS BELOW THIS LINE\n",
    "\"\"\"\n",
    "tests.test_con_pool(conv2d_maxpool)"
   ]
  },
  {
   "cell_type": "markdown",
   "metadata": {},
   "source": [
    "### Flatten Layer\n",
    "Implement the `flatten` function to change the dimension of `x_tensor` from a 4-D tensor to a 2-D tensor.  The output should be the shape (*Batch Size*, *Flattened Image Size*). Shortcut option: you can use classes from the [TensorFlow Layers](https://www.tensorflow.org/api_docs/python/tf/layers) or [TensorFlow Layers (contrib)](https://www.tensorflow.org/api_guides/python/contrib.layers) packages for this layer. For more of a challenge, only use other TensorFlow packages."
   ]
  },
  {
   "cell_type": "code",
   "execution_count": 79,
   "metadata": {},
   "outputs": [
    {
     "name": "stdout",
     "output_type": "stream",
     "text": [
      "Tests Passed\n"
     ]
    }
   ],
   "source": [
    "def flatten(x_tensor):\n",
    "    \"\"\"\n",
    "    Flatten x_tensor to (Batch Size, Flattened Image Size)\n",
    "    : x_tensor: A tensor of size (Batch Size, ...), where ... are the image dimensions.\n",
    "    : return: A tensor of size (Batch Size, Flattened Image Size).\n",
    "    \"\"\"\n",
    "    # TODO: Implement Function\n",
    "    t = x_tensor.get_shape().as_list();\n",
    "    dim = np.prod(t[1:])\n",
    "    return tf.reshape(x_tensor, [-1, dim])\n",
    "\n",
    "\"\"\"\n",
    "DON'T MODIFY ANYTHING IN THIS CELL THAT IS BELOW THIS LINE\n",
    "\"\"\"\n",
    "tests.test_flatten(flatten)"
   ]
  },
  {
   "cell_type": "markdown",
   "metadata": {},
   "source": [
    "### Fully-Connected Layer\n",
    "Implement the `fully_conn` function to apply a fully connected layer to `x_tensor` with the shape (*Batch Size*, *num_outputs*). Shortcut option: you can use classes from the [TensorFlow Layers](https://www.tensorflow.org/api_docs/python/tf/layers) or [TensorFlow Layers (contrib)](https://www.tensorflow.org/api_guides/python/contrib.layers) packages for this layer. For more of a challenge, only use other TensorFlow packages."
   ]
  },
  {
   "cell_type": "code",
   "execution_count": 80,
   "metadata": {},
   "outputs": [
    {
     "name": "stdout",
     "output_type": "stream",
     "text": [
      "Tests Passed\n"
     ]
    }
   ],
   "source": [
    "def fully_conn(x_tensor, num_outputs):\n",
    "    \"\"\"\n",
    "    Apply a fully connected layer to x_tensor using weight and bias\n",
    "    : x_tensor: A 2-D tensor where the first dimension is batch size.\n",
    "    : num_outputs: The number of output that the new tensor should be.\n",
    "    : return: A 2-D tensor where the second dimension is num_outputs.\n",
    "    \"\"\"\n",
    "    # TODO: Implement Function\n",
    "    # x_tensor = flatten(x_tensor) # do not need to flatten here \n",
    "    xarvier = 2.0/(x_tensor.get_shape().as_list()[1]+ num_outputs)\n",
    "    weight = tf.Variable(tf.truncated_normal([x_tensor.get_shape().as_list()[1], num_outputs], 0.0, stddev=np.sqrt(xarvier)))\n",
    "    bias = tf.Variable(tf.zeros(num_outputs))\n",
    "    x_tensor = tf.add(tf.matmul(x_tensor, weight), bias)\n",
    "    x_tensor = tf.nn.relu(x_tensor)\n",
    "    \n",
    "    return x_tensor\n",
    "\n",
    "\n",
    "\"\"\"\n",
    "DON'T MODIFY ANYTHING IN THIS CELL THAT IS BELOW THIS LINE\n",
    "\"\"\"\n",
    "tests.test_fully_conn(fully_conn)"
   ]
  },
  {
   "cell_type": "markdown",
   "metadata": {},
   "source": [
    "### Output Layer\n",
    "Implement the `output` function to apply a fully connected layer to `x_tensor` with the shape (*Batch Size*, *num_outputs*). Shortcut option: you can use classes from the [TensorFlow Layers](https://www.tensorflow.org/api_docs/python/tf/layers) or [TensorFlow Layers (contrib)](https://www.tensorflow.org/api_guides/python/contrib.layers) packages for this layer. For more of a challenge, only use other TensorFlow packages.\n",
    "\n",
    "**Note:** Activation, softmax, or cross entropy should **not** be applied to this."
   ]
  },
  {
   "cell_type": "code",
   "execution_count": 81,
   "metadata": {},
   "outputs": [
    {
     "name": "stdout",
     "output_type": "stream",
     "text": [
      "Tests Passed\n"
     ]
    }
   ],
   "source": [
    "def output(x_tensor, num_outputs):\n",
    "    \"\"\"\n",
    "    Apply a output layer to x_tensor using weight and bias\n",
    "    : x_tensor: A 2-D tensor where the first dimension is batch size.\n",
    "    : num_outputs: The number of output that the new tensor should be.\n",
    "    : return: A 2-D tensor where the second dimension is num_outputs.\n",
    "    \"\"\"\n",
    "    # TODO: Implement Function\n",
    "    xarvier = 2.0/(x_tensor.get_shape().as_list()[1]+num_outputs)\n",
    "    weight = tf.Variable(tf.truncated_normal([x_tensor.get_shape().as_list()[1], num_outputs], 0.0, stddev=np.sqrt(xarvier)))\n",
    "    bias = tf.Variable(tf.zeros(num_outputs))\n",
    "    x_tensor = tf.add(tf.matmul(x_tensor, weight), bias)\n",
    "    \n",
    "    # return tf.nn.relu(x_tensor)\n",
    "    return x_tensor\n",
    "\n",
    "\"\"\"\n",
    "DON'T MODIFY ANYTHING IN THIS CELL THAT IS BELOW THIS LINE\n",
    "\"\"\"\n",
    "tests.test_output(output)"
   ]
  },
  {
   "cell_type": "markdown",
   "metadata": {},
   "source": [
    "### Create Convolutional Model\n",
    "Implement the function `conv_net` to create a convolutional neural network model. The function takes in a batch of images, `x`, and outputs logits.  Use the layers you created above to create this model:\n",
    "\n",
    "* Apply 1, 2, or 3 Convolution and Max Pool layers\n",
    "* Apply a Flatten Layer\n",
    "* Apply 1, 2, or 3 Fully Connected Layers\n",
    "* Apply an Output Layer\n",
    "* Return the output\n",
    "* Apply [TensorFlow's Dropout](https://www.tensorflow.org/api_docs/python/tf/nn/dropout) to one or more layers in the model using `keep_prob`. "
   ]
  },
  {
   "cell_type": "code",
   "execution_count": 82,
   "metadata": {},
   "outputs": [
    {
     "name": "stdout",
     "output_type": "stream",
     "text": [
      "Neural Network Built!\n"
     ]
    }
   ],
   "source": [
    "def conv_net(x, keep_prob):\n",
    "    \"\"\"\n",
    "    Create a convolutional neural network model\n",
    "    : x: Placeholder tensor that holds image data.\n",
    "    : keep_prob: Placeholder tensor that hold dropout keep probability.\n",
    "    : return: Tensor that represents logits\n",
    "    \"\"\"\n",
    "    # TODO: Apply 1, 2, or 3 Convolution and Max Pool layers\n",
    "    #    Play around with different number of outputs, kernel size and stride\n",
    "    # Function Definition from Above:\n",
    "    #    conv2d_maxpool(x_tensor, conv_num_outputs, conv_ksize, conv_strides, pool_ksize, pool_strides)\n",
    "    conv_num_outputs = 16 # 7 converlution depth K \n",
    "    conv_ksize = [3,3] # filter size \n",
    "    conv_strides = [1,1] # \n",
    "    pool_ksize = [2,2]\n",
    "    pool_strides = [2,2] # reduce input size since we need to increase more dimensions \n",
    "    conv1 = conv2d_maxpool(x, conv_num_outputs, conv_ksize, conv_strides, pool_ksize, pool_strides)\n",
    "    conv2 = conv2d_maxpool(conv1, conv_num_outputs*2, conv_ksize, conv_strides, pool_ksize, pool_strides)\n",
    "    # conv3 = conv2d_maxpool(conv2, conv_num_outputs*4, conv_ksize, conv_strides, pool_ksize, pool_strides)\n",
    "    \n",
    "    # TODO: Apply a Flatten Layer\n",
    "    # Function Definition from Above:\n",
    "    #   flatten(x_tensor)\n",
    "    flat1 = flatten(conv2)\n",
    "\n",
    "    # TODO: Apply 1, 2, or 3 Fully Connected Layers\n",
    "    #    Play around with different number of outputs\n",
    "    # Function Definition from Above:\n",
    "    #   fully_conn(x_tensor, num_outputs)\n",
    "    num_outputs1 = 256\n",
    "    num_outputs2 = 128\n",
    "    fconn1 = fully_conn(flat1, num_outputs1)\n",
    "    # fconn1 = tf.nn.relu(fconn1)\n",
    "    fconn1 = tf.nn.dropout(fconn1, keep_prob)\n",
    "    fconn2 = fully_conn(fconn1, num_outputs2)\n",
    "    # fconn2 = tf.nn.relu(fconn2)\n",
    "    \n",
    "    # TODO: Apply an Output Layer\n",
    "    #    Set this to the number of classes\n",
    "    # Function Definition from Above:\n",
    "    #   output(x_tensor, num_outputs)\n",
    "    num_output = 10\n",
    "    output1 = output(fconn2, num_output)\n",
    "    \n",
    "    # TODO: return output\n",
    "    return output1\n",
    "\n",
    "\n",
    "\"\"\"\n",
    "DON'T MODIFY ANYTHING IN THIS CELL THAT IS BELOW THIS LINE\n",
    "\"\"\"\n",
    "\n",
    "##############################\n",
    "## Build the Neural Network ##\n",
    "##############################\n",
    "\n",
    "# Remove previous weights, bias, inputs, etc..\n",
    "tf.reset_default_graph()\n",
    "\n",
    "# Inputs\n",
    "x = neural_net_image_input((32, 32, 3))\n",
    "y = neural_net_label_input(10)\n",
    "keep_prob = neural_net_keep_prob_input()\n",
    "\n",
    "# Model\n",
    "logits = conv_net(x, keep_prob)\n",
    "\n",
    "# Name logits Tensor, so that is can be loaded from disk after training\n",
    "logits = tf.identity(logits, name='logits')\n",
    "\n",
    "# Loss and Optimizer\n",
    "cost = tf.reduce_mean(tf.nn.softmax_cross_entropy_with_logits(logits=logits, labels=y))\n",
    "optimizer = tf.train.AdamOptimizer().minimize(cost)\n",
    "\n",
    "# Accuracy\n",
    "correct_pred = tf.equal(tf.argmax(logits, 1), tf.argmax(y, 1))\n",
    "accuracy = tf.reduce_mean(tf.cast(correct_pred, tf.float32), name='accuracy')\n",
    "\n",
    "tests.test_conv_net(conv_net)"
   ]
  },
  {
   "cell_type": "markdown",
   "metadata": {},
   "source": [
    "## Train the Neural Network\n",
    "### Single Optimization\n",
    "Implement the function `train_neural_network` to do a single optimization.  The optimization should use `optimizer` to optimize in `session` with a `feed_dict` of the following:\n",
    "* `x` for image input\n",
    "* `y` for labels\n",
    "* `keep_prob` for keep probability for dropout\n",
    "\n",
    "This function will be called for each batch, so `tf.global_variables_initializer()` has already been called.\n",
    "\n",
    "Note: Nothing needs to be returned. This function is only optimizing the neural network."
   ]
  },
  {
   "cell_type": "code",
   "execution_count": 83,
   "metadata": {},
   "outputs": [
    {
     "name": "stdout",
     "output_type": "stream",
     "text": [
      "Tests Passed\n"
     ]
    }
   ],
   "source": [
    "def train_neural_network(session, optimizer, keep_probability, feature_batch, label_batch):\n",
    "    \"\"\"\n",
    "    Optimize the session on a batch of images and labels\n",
    "    : session: Current TensorFlow session\n",
    "    : optimizer: TensorFlow optimizer function\n",
    "    : keep_probability: keep probability\n",
    "    : feature_batch: Batch of Numpy image data\n",
    "    : label_batch: Batch of Numpy label data\n",
    "    \"\"\"\n",
    "    # TODO: Implement Function\n",
    "    session.run(optimizer, feed_dict={x:feature_batch, y:label_batch,keep_prob:keep_probability})\n",
    "\n",
    "\n",
    "\"\"\"\n",
    "DON'T MODIFY ANYTHING IN THIS CELL THAT IS BELOW THIS LINE\n",
    "\"\"\"\n",
    "tests.test_train_nn(train_neural_network)"
   ]
  },
  {
   "cell_type": "markdown",
   "metadata": {},
   "source": [
    "### Show Stats\n",
    "Implement the function `print_stats` to print loss and validation accuracy.  Use the global variables `valid_features` and `valid_labels` to calculate validation accuracy.  Use a keep probability of `1.0` to calculate the loss and validation accuracy."
   ]
  },
  {
   "cell_type": "code",
   "execution_count": 84,
   "metadata": {
    "collapsed": true
   },
   "outputs": [],
   "source": [
    "def print_stats(session, feature_batch, label_batch, cost, accuracy):\n",
    "    \"\"\"\n",
    "    Print information about loss and validation accuracy\n",
    "    : session: Current TensorFlow session\n",
    "    : feature_batch: Batch of Numpy image data\n",
    "    : label_batch: Batch of Numpy label data\n",
    "    : cost: TensorFlow cost function\n",
    "    : accuracy: TensorFlow accuracy function\n",
    "    \"\"\"\n",
    "    # TODO: Implement Function\n",
    "    # Calculate batch loss and accuracy\n",
    "    loss = session.run(cost, feed_dict={\n",
    "                x: feature_batch,\n",
    "                y: label_batch,\n",
    "                keep_prob: 1.})\n",
    "    valid_acc = session.run(accuracy, feed_dict={\n",
    "                x: valid_features,\n",
    "                y: valid_labels,\n",
    "                keep_prob: 1.})\n",
    "    print('Loss: {:>10.4f} Validation Accuracy: {:.6f}'.format(\n",
    "                loss,\n",
    "                valid_acc))\n",
    "    "
   ]
  },
  {
   "cell_type": "markdown",
   "metadata": {},
   "source": [
    "### Hyperparameters\n",
    "Tune the following parameters:\n",
    "* Set `epochs` to the number of iterations until the network stops learning or start overfitting\n",
    "* Set `batch_size` to the highest number that your machine has memory for.  Most people set them to common sizes of memory:\n",
    " * 64\n",
    " * 128\n",
    " * 256\n",
    " * ...\n",
    "* Set `keep_probability` to the probability of keeping a node using dropout"
   ]
  },
  {
   "cell_type": "code",
   "execution_count": 85,
   "metadata": {
    "collapsed": true
   },
   "outputs": [],
   "source": [
    "# TODO: Tune Parameters\n",
    "epochs = 20\n",
    "batch_size = 240\n",
    "keep_probability = 0.5"
   ]
  },
  {
   "cell_type": "markdown",
   "metadata": {},
   "source": [
    "### Train on a Single CIFAR-10 Batch\n",
    "Instead of training the neural network on all the CIFAR-10 batches of data, let's use a single batch. This should save time while you iterate on the model to get a better accuracy.  Once the final validation accuracy is 50% or greater, run the model on all the data in the next section."
   ]
  },
  {
   "cell_type": "code",
   "execution_count": 86,
   "metadata": {},
   "outputs": [
    {
     "name": "stdout",
     "output_type": "stream",
     "text": [
      "Checking the Training on a Single Batch...\n",
      "Epoch  1, CIFAR-10 Batch 1:  Loss:     2.0626 Validation Accuracy: 0.304600\n",
      "Epoch  2, CIFAR-10 Batch 1:  Loss:     1.8453 Validation Accuracy: 0.388800\n",
      "Epoch  3, CIFAR-10 Batch 1:  Loss:     1.6892 Validation Accuracy: 0.427000\n",
      "Epoch  4, CIFAR-10 Batch 1:  Loss:     1.5831 Validation Accuracy: 0.468800\n",
      "Epoch  5, CIFAR-10 Batch 1:  Loss:     1.4928 Validation Accuracy: 0.476400\n",
      "Epoch  6, CIFAR-10 Batch 1:  Loss:     1.3974 Validation Accuracy: 0.497000\n",
      "Epoch  7, CIFAR-10 Batch 1:  Loss:     1.2931 Validation Accuracy: 0.505200\n",
      "Epoch  8, CIFAR-10 Batch 1:  Loss:     1.2326 Validation Accuracy: 0.517400\n",
      "Epoch  9, CIFAR-10 Batch 1:  Loss:     1.1802 Validation Accuracy: 0.522600\n",
      "Epoch 10, CIFAR-10 Batch 1:  Loss:     1.0978 Validation Accuracy: 0.530800\n",
      "Epoch 11, CIFAR-10 Batch 1:  Loss:     1.0479 Validation Accuracy: 0.533000\n",
      "Epoch 12, CIFAR-10 Batch 1:  Loss:     1.0311 Validation Accuracy: 0.530400\n",
      "Epoch 13, CIFAR-10 Batch 1:  Loss:     0.9261 Validation Accuracy: 0.543600\n",
      "Epoch 14, CIFAR-10 Batch 1:  Loss:     0.9011 Validation Accuracy: 0.544600\n",
      "Epoch 15, CIFAR-10 Batch 1:  Loss:     0.8128 Validation Accuracy: 0.547600\n",
      "Epoch 16, CIFAR-10 Batch 1:  Loss:     0.7541 Validation Accuracy: 0.559200\n",
      "Epoch 17, CIFAR-10 Batch 1:  Loss:     0.7062 Validation Accuracy: 0.563400\n",
      "Epoch 18, CIFAR-10 Batch 1:  Loss:     0.7037 Validation Accuracy: 0.561000\n",
      "Epoch 19, CIFAR-10 Batch 1:  Loss:     0.6571 Validation Accuracy: 0.557000\n",
      "Epoch 20, CIFAR-10 Batch 1:  Loss:     0.5757 Validation Accuracy: 0.571200\n"
     ]
    }
   ],
   "source": [
    "\"\"\"\n",
    "DON'T MODIFY ANYTHING IN THIS CELL\n",
    "\"\"\"\n",
    "print('Checking the Training on a Single Batch...')\n",
    "with tf.Session() as sess:\n",
    "    # Initializing the variables\n",
    "    sess.run(tf.global_variables_initializer())\n",
    "    \n",
    "    # Training cycle\n",
    "    for epoch in range(epochs):\n",
    "        batch_i = 1\n",
    "        for batch_features, batch_labels in helper.load_preprocess_training_batch(batch_i, batch_size):\n",
    "            train_neural_network(sess, optimizer, keep_probability, batch_features, batch_labels)\n",
    "        print('Epoch {:>2}, CIFAR-10 Batch {}:  '.format(epoch + 1, batch_i), end='')\n",
    "        print_stats(sess, batch_features, batch_labels, cost, accuracy)"
   ]
  },
  {
   "cell_type": "markdown",
   "metadata": {},
   "source": [
    "### Fully Train the Model\n",
    "Now that you got a good accuracy with a single CIFAR-10 batch, try it with all five batches."
   ]
  },
  {
   "cell_type": "code",
   "execution_count": 87,
   "metadata": {},
   "outputs": [
    {
     "name": "stdout",
     "output_type": "stream",
     "text": [
      "Training...\n",
      "Epoch  1, CIFAR-10 Batch 1:  Loss:     2.0565 Validation Accuracy: 0.319200\n",
      "Epoch  1, CIFAR-10 Batch 2:  Loss:     1.6104 Validation Accuracy: 0.391000\n",
      "Epoch  1, CIFAR-10 Batch 3:  Loss:     1.3936 Validation Accuracy: 0.434200\n",
      "Epoch  1, CIFAR-10 Batch 4:  Loss:     1.5091 Validation Accuracy: 0.456000\n",
      "Epoch  1, CIFAR-10 Batch 5:  Loss:     1.3724 Validation Accuracy: 0.474600\n",
      "Epoch  2, CIFAR-10 Batch 1:  Loss:     1.5615 Validation Accuracy: 0.498200\n",
      "Epoch  2, CIFAR-10 Batch 2:  Loss:     1.3055 Validation Accuracy: 0.497000\n",
      "Epoch  2, CIFAR-10 Batch 3:  Loss:     1.1319 Validation Accuracy: 0.516000\n",
      "Epoch  2, CIFAR-10 Batch 4:  Loss:     1.2777 Validation Accuracy: 0.532600\n",
      "Epoch  2, CIFAR-10 Batch 5:  Loss:     1.2039 Validation Accuracy: 0.536600\n",
      "Epoch  3, CIFAR-10 Batch 1:  Loss:     1.3768 Validation Accuracy: 0.545800\n",
      "Epoch  3, CIFAR-10 Batch 2:  Loss:     1.1522 Validation Accuracy: 0.531600\n",
      "Epoch  3, CIFAR-10 Batch 3:  Loss:     1.0033 Validation Accuracy: 0.551600\n",
      "Epoch  3, CIFAR-10 Batch 4:  Loss:     1.1257 Validation Accuracy: 0.561400\n",
      "Epoch  3, CIFAR-10 Batch 5:  Loss:     1.0606 Validation Accuracy: 0.565600\n",
      "Epoch  4, CIFAR-10 Batch 1:  Loss:     1.2841 Validation Accuracy: 0.559600\n",
      "Epoch  4, CIFAR-10 Batch 2:  Loss:     0.9982 Validation Accuracy: 0.564200\n",
      "Epoch  4, CIFAR-10 Batch 3:  Loss:     0.9062 Validation Accuracy: 0.583200\n",
      "Epoch  4, CIFAR-10 Batch 4:  Loss:     1.0785 Validation Accuracy: 0.575800\n",
      "Epoch  4, CIFAR-10 Batch 5:  Loss:     0.9475 Validation Accuracy: 0.597200\n",
      "Epoch  5, CIFAR-10 Batch 1:  Loss:     1.2217 Validation Accuracy: 0.580000\n",
      "Epoch  5, CIFAR-10 Batch 2:  Loss:     0.9182 Validation Accuracy: 0.589400\n",
      "Epoch  5, CIFAR-10 Batch 3:  Loss:     0.8455 Validation Accuracy: 0.591000\n",
      "Epoch  5, CIFAR-10 Batch 4:  Loss:     0.9876 Validation Accuracy: 0.603200\n",
      "Epoch  5, CIFAR-10 Batch 5:  Loss:     0.8692 Validation Accuracy: 0.614200\n",
      "Epoch  6, CIFAR-10 Batch 1:  Loss:     1.0907 Validation Accuracy: 0.606000\n",
      "Epoch  6, CIFAR-10 Batch 2:  Loss:     0.8287 Validation Accuracy: 0.584000\n",
      "Epoch  6, CIFAR-10 Batch 3:  Loss:     0.7942 Validation Accuracy: 0.612600\n",
      "Epoch  6, CIFAR-10 Batch 4:  Loss:     0.9373 Validation Accuracy: 0.620400\n",
      "Epoch  6, CIFAR-10 Batch 5:  Loss:     0.7777 Validation Accuracy: 0.613400\n",
      "Epoch  7, CIFAR-10 Batch 1:  Loss:     0.9930 Validation Accuracy: 0.624800\n",
      "Epoch  7, CIFAR-10 Batch 2:  Loss:     0.7420 Validation Accuracy: 0.608200\n",
      "Epoch  7, CIFAR-10 Batch 3:  Loss:     0.7411 Validation Accuracy: 0.626000\n",
      "Epoch  7, CIFAR-10 Batch 4:  Loss:     0.8263 Validation Accuracy: 0.627000\n",
      "Epoch  7, CIFAR-10 Batch 5:  Loss:     0.7326 Validation Accuracy: 0.632600\n",
      "Epoch  8, CIFAR-10 Batch 1:  Loss:     0.9587 Validation Accuracy: 0.635000\n",
      "Epoch  8, CIFAR-10 Batch 2:  Loss:     0.6885 Validation Accuracy: 0.625600\n",
      "Epoch  8, CIFAR-10 Batch 3:  Loss:     0.7167 Validation Accuracy: 0.635200\n",
      "Epoch  8, CIFAR-10 Batch 4:  Loss:     0.7938 Validation Accuracy: 0.644000\n",
      "Epoch  8, CIFAR-10 Batch 5:  Loss:     0.6621 Validation Accuracy: 0.647000\n",
      "Epoch  9, CIFAR-10 Batch 1:  Loss:     0.8992 Validation Accuracy: 0.638400\n",
      "Epoch  9, CIFAR-10 Batch 2:  Loss:     0.6302 Validation Accuracy: 0.642200\n",
      "Epoch  9, CIFAR-10 Batch 3:  Loss:     0.6851 Validation Accuracy: 0.649200\n",
      "Epoch  9, CIFAR-10 Batch 4:  Loss:     0.7315 Validation Accuracy: 0.659800\n",
      "Epoch  9, CIFAR-10 Batch 5:  Loss:     0.6044 Validation Accuracy: 0.654400\n",
      "Epoch 10, CIFAR-10 Batch 1:  Loss:     0.8379 Validation Accuracy: 0.643800\n",
      "Epoch 10, CIFAR-10 Batch 2:  Loss:     0.6291 Validation Accuracy: 0.652200\n",
      "Epoch 10, CIFAR-10 Batch 3:  Loss:     0.6242 Validation Accuracy: 0.661200\n",
      "Epoch 10, CIFAR-10 Batch 4:  Loss:     0.6938 Validation Accuracy: 0.661600\n",
      "Epoch 10, CIFAR-10 Batch 5:  Loss:     0.5380 Validation Accuracy: 0.661800\n",
      "Epoch 11, CIFAR-10 Batch 1:  Loss:     0.7620 Validation Accuracy: 0.652800\n",
      "Epoch 11, CIFAR-10 Batch 2:  Loss:     0.5858 Validation Accuracy: 0.661600\n",
      "Epoch 11, CIFAR-10 Batch 3:  Loss:     0.5694 Validation Accuracy: 0.660400\n",
      "Epoch 11, CIFAR-10 Batch 4:  Loss:     0.6377 Validation Accuracy: 0.669200\n",
      "Epoch 11, CIFAR-10 Batch 5:  Loss:     0.5112 Validation Accuracy: 0.663600\n",
      "Epoch 12, CIFAR-10 Batch 1:  Loss:     0.7165 Validation Accuracy: 0.665200\n",
      "Epoch 12, CIFAR-10 Batch 2:  Loss:     0.5404 Validation Accuracy: 0.659200\n",
      "Epoch 12, CIFAR-10 Batch 3:  Loss:     0.5676 Validation Accuracy: 0.666800\n",
      "Epoch 12, CIFAR-10 Batch 4:  Loss:     0.6043 Validation Accuracy: 0.666000\n",
      "Epoch 12, CIFAR-10 Batch 5:  Loss:     0.4891 Validation Accuracy: 0.668200\n",
      "Epoch 13, CIFAR-10 Batch 1:  Loss:     0.6604 Validation Accuracy: 0.671600\n",
      "Epoch 13, CIFAR-10 Batch 2:  Loss:     0.4973 Validation Accuracy: 0.670800\n",
      "Epoch 13, CIFAR-10 Batch 3:  Loss:     0.5586 Validation Accuracy: 0.662400\n",
      "Epoch 13, CIFAR-10 Batch 4:  Loss:     0.5667 Validation Accuracy: 0.679200\n",
      "Epoch 13, CIFAR-10 Batch 5:  Loss:     0.4217 Validation Accuracy: 0.675400\n",
      "Epoch 14, CIFAR-10 Batch 1:  Loss:     0.6006 Validation Accuracy: 0.674000\n",
      "Epoch 14, CIFAR-10 Batch 2:  Loss:     0.4812 Validation Accuracy: 0.660200\n",
      "Epoch 14, CIFAR-10 Batch 3:  Loss:     0.4786 Validation Accuracy: 0.673400\n",
      "Epoch 14, CIFAR-10 Batch 4:  Loss:     0.5316 Validation Accuracy: 0.673800\n",
      "Epoch 14, CIFAR-10 Batch 5:  Loss:     0.4113 Validation Accuracy: 0.677200\n",
      "Epoch 15, CIFAR-10 Batch 1:  Loss:     0.5953 Validation Accuracy: 0.673800\n",
      "Epoch 15, CIFAR-10 Batch 2:  Loss:     0.4183 Validation Accuracy: 0.680200\n",
      "Epoch 15, CIFAR-10 Batch 3:  Loss:     0.4527 Validation Accuracy: 0.685000\n",
      "Epoch 15, CIFAR-10 Batch 4:  Loss:     0.5121 Validation Accuracy: 0.683200\n",
      "Epoch 15, CIFAR-10 Batch 5:  Loss:     0.3939 Validation Accuracy: 0.673400\n",
      "Epoch 16, CIFAR-10 Batch 1:  Loss:     0.5415 Validation Accuracy: 0.677800\n",
      "Epoch 16, CIFAR-10 Batch 2:  Loss:     0.4190 Validation Accuracy: 0.679000\n",
      "Epoch 16, CIFAR-10 Batch 3:  Loss:     0.4313 Validation Accuracy: 0.681800\n",
      "Epoch 16, CIFAR-10 Batch 4:  Loss:     0.4805 Validation Accuracy: 0.681000\n",
      "Epoch 16, CIFAR-10 Batch 5:  Loss:     0.3644 Validation Accuracy: 0.683400\n",
      "Epoch 17, CIFAR-10 Batch 1:  Loss:     0.5032 Validation Accuracy: 0.673000\n",
      "Epoch 17, CIFAR-10 Batch 2:  Loss:     0.3877 Validation Accuracy: 0.681400\n",
      "Epoch 17, CIFAR-10 Batch 3:  Loss:     0.3977 Validation Accuracy: 0.676200\n",
      "Epoch 17, CIFAR-10 Batch 4:  Loss:     0.4416 Validation Accuracy: 0.685000\n",
      "Epoch 17, CIFAR-10 Batch 5:  Loss:     0.3263 Validation Accuracy: 0.687800\n",
      "Epoch 18, CIFAR-10 Batch 1:  Loss:     0.4497 Validation Accuracy: 0.683600\n",
      "Epoch 18, CIFAR-10 Batch 2:  Loss:     0.3778 Validation Accuracy: 0.683800\n",
      "Epoch 18, CIFAR-10 Batch 3:  Loss:     0.3538 Validation Accuracy: 0.676400\n",
      "Epoch 18, CIFAR-10 Batch 4:  Loss:     0.4348 Validation Accuracy: 0.689800\n",
      "Epoch 18, CIFAR-10 Batch 5:  Loss:     0.3180 Validation Accuracy: 0.689200\n",
      "Epoch 19, CIFAR-10 Batch 1:  Loss:     0.4389 Validation Accuracy: 0.692200\n",
      "Epoch 19, CIFAR-10 Batch 2:  Loss:     0.3736 Validation Accuracy: 0.687400\n",
      "Epoch 19, CIFAR-10 Batch 3:  Loss:     0.3127 Validation Accuracy: 0.675000\n",
      "Epoch 19, CIFAR-10 Batch 4:  Loss:     0.3805 Validation Accuracy: 0.688200\n",
      "Epoch 19, CIFAR-10 Batch 5:  Loss:     0.2956 Validation Accuracy: 0.686000\n",
      "Epoch 20, CIFAR-10 Batch 1:  Loss:     0.4136 Validation Accuracy: 0.686000\n",
      "Epoch 20, CIFAR-10 Batch 2:  Loss:     0.3255 Validation Accuracy: 0.685800\n",
      "Epoch 20, CIFAR-10 Batch 3:  Loss:     0.2876 Validation Accuracy: 0.683600\n",
      "Epoch 20, CIFAR-10 Batch 4:  Loss:     0.4125 Validation Accuracy: 0.696000\n",
      "Epoch 20, CIFAR-10 Batch 5:  Loss:     0.2731 Validation Accuracy: 0.688800\n"
     ]
    }
   ],
   "source": [
    "\"\"\"\n",
    "DON'T MODIFY ANYTHING IN THIS CELL\n",
    "\"\"\"\n",
    "save_model_path = './image_classification'\n",
    "\n",
    "print('Training...')\n",
    "with tf.Session() as sess:\n",
    "    # Initializing the variables\n",
    "    sess.run(tf.global_variables_initializer())\n",
    "    \n",
    "    # Training cycle\n",
    "    for epoch in range(epochs):\n",
    "        # Loop over all batches\n",
    "        n_batches = 5\n",
    "        for batch_i in range(1, n_batches + 1):\n",
    "            for batch_features, batch_labels in helper.load_preprocess_training_batch(batch_i, batch_size):\n",
    "                train_neural_network(sess, optimizer, keep_probability, batch_features, batch_labels)\n",
    "            print('Epoch {:>2}, CIFAR-10 Batch {}:  '.format(epoch + 1, batch_i), end='')\n",
    "            print_stats(sess, batch_features, batch_labels, cost, accuracy)\n",
    "            \n",
    "    # Save Model\n",
    "    saver = tf.train.Saver()\n",
    "    save_path = saver.save(sess, save_model_path)"
   ]
  },
  {
   "cell_type": "markdown",
   "metadata": {},
   "source": [
    "# Checkpoint\n",
    "The model has been saved to disk.\n",
    "## Test Model\n",
    "Test your model against the test dataset.  This will be your final accuracy. You should have an accuracy greater than 50%. If you don't, keep tweaking the model architecture and parameters."
   ]
  },
  {
   "cell_type": "code",
   "execution_count": 88,
   "metadata": {},
   "outputs": [
    {
     "name": "stdout",
     "output_type": "stream",
     "text": [
      "INFO:tensorflow:Restoring parameters from ./image_classification\n",
      "Testing Accuracy: 0.7001488946733021\n",
      "\n"
     ]
    },
    {
     "data": {
      "image/png": "[encoded data removed]",
      "text/plain": [
       "<matplotlib.figure.Figure at 0x7f3bdaa96a20>"
      ]
     },
     "metadata": {
      "image/png": {
       "height": 319,
       "width": 355
      }
     },
     "output_type": "display_data"
    }
   ],
   "source": [
    "\"\"\"\n",
    "DON'T MODIFY ANYTHING IN THIS CELL\n",
    "\"\"\"\n",
    "%matplotlib inline\n",
    "%config InlineBackend.figure_format = 'retina'\n",
    "\n",
    "import tensorflow as tf\n",
    "import pickle\n",
    "import helper\n",
    "import random\n",
    "\n",
    "# Set batch size if not already set\n",
    "try:\n",
    "    if batch_size:\n",
    "        pass\n",
    "except NameError:\n",
    "    batch_size = 64\n",
    "\n",
    "save_model_path = './image_classification'\n",
    "n_samples = 4\n",
    "top_n_predictions = 3\n",
    "\n",
    "def test_model():\n",
    "    \"\"\"\n",
    "    Test the saved model against the test dataset\n",
    "    \"\"\"\n",
    "\n",
    "    test_features, test_labels = pickle.load(open('preprocess_training.p', mode='rb'))\n",
    "    loaded_graph = tf.Graph()\n",
    "\n",
    "    with tf.Session(graph=loaded_graph) as sess:\n",
    "        # Load model\n",
    "        loader = tf.train.import_meta_graph(save_model_path + '.meta')\n",
    "        loader.restore(sess, save_model_path)\n",
    "\n",
    "        # Get Tensors from loaded model\n",
    "        loaded_x = loaded_graph.get_tensor_by_name('x:0')\n",
    "        loaded_y = loaded_graph.get_tensor_by_name('y:0')\n",
    "        loaded_keep_prob = loaded_graph.get_tensor_by_name('keep_prob:0')\n",
    "        loaded_logits = loaded_graph.get_tensor_by_name('logits:0')\n",
    "        loaded_acc = loaded_graph.get_tensor_by_name('accuracy:0')\n",
    "        \n",
    "        # Get accuracy in batches for memory limitations\n",
    "        test_batch_acc_total = 0\n",
    "        test_batch_count = 0\n",
    "        \n",
    "        for train_feature_batch, train_label_batch in helper.batch_features_labels(test_features, test_labels, batch_size):\n",
    "            test_batch_acc_total += sess.run(\n",
    "                loaded_acc,\n",
    "                feed_dict={loaded_x: train_feature_batch, loaded_y: train_label_batch, loaded_keep_prob: 1.0})\n",
    "            test_batch_count += 1\n",
    "\n",
    "        print('Testing Accuracy: {}\\n'.format(test_batch_acc_total/test_batch_count))\n",
    "\n",
    "        # Print Random Samples\n",
    "        random_test_features, random_test_labels = tuple(zip(*random.sample(list(zip(test_features, test_labels)), n_samples)))\n",
    "        random_test_predictions = sess.run(\n",
    "            tf.nn.top_k(tf.nn.softmax(loaded_logits), top_n_predictions),\n",
    "            feed_dict={loaded_x: random_test_features, loaded_y: random_test_labels, loaded_keep_prob: 1.0})\n",
    "        helper.display_image_predictions(random_test_features, random_test_labels, random_test_predictions)\n",
    "\n",
    "\n",
    "test_model()"
   ]
  },
  {
   "cell_type": "markdown",
   "metadata": {},
   "source": [
    "## Why 50-70% Accuracy?\n",
    "You might be wondering why you can't get an accuracy any higher. First things first, 50% isn't bad for a simple CNN.  Pure guessing would get you 10% accuracy. However, you might notice people are getting scores [well above 70%](http://rodrigob.github.io/are_we_there_yet/build/classification_datasets_results.html#43494641522d3130).  That's because we haven't taught you all there is to know about neural networks. We still need to cover a few more techniques.\n",
    "## Submitting This Project\n",
    "When submitting this project, make sure to run all the cells before saving the notebook.  Save the notebook file as \"dlnd_image_classification.ipynb\" and save it as a HTML file under \"File\" -> \"Download as\".  Include the \"helper.py\" and \"problem_unittests.py\" files in your submission."
   ]
  },
  {
   "cell_type": "code",
   "execution_count": null,
   "metadata": {
    "collapsed": true
   },
   "outputs": [],
   "source": []
  }
 ],
 "metadata": {
  "kernelspec": {
   "display_name": "Python 3",
   "language": "python",
   "name": "python3"
  },
  "language_info": {
   "codemirror_mode": {
    "name": "ipython",
    "version": 3
   },
   "file_extension": ".py",
   "mimetype": "text/x-python",
   "name": "python",
   "nbconvert_exporter": "python",
   "pygments_lexer": "ipython3",
   "version": "3.5.3"
  }
 },
 "nbformat": 4,
 "nbformat_minor": 1
}
